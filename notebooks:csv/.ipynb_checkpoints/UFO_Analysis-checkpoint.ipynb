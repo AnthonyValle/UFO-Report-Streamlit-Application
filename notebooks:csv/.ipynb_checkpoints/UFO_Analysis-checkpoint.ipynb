{
 "cells": [
  {
   "cell_type": "code",
   "execution_count": 2,
   "metadata": {},
   "outputs": [],
   "source": [
    "import pandas as pd\n",
    "import matplotlib.pyplot as plt\n",
    "import seaborn as sns\n",
    "import numpy as np"
   ]
  },
  {
   "cell_type": "code",
   "execution_count": 3,
   "metadata": {},
   "outputs": [],
   "source": [
    "data = pd.read_csv('UFO.csv')"
   ]
  },
  {
   "cell_type": "code",
   "execution_count": 4,
   "metadata": {},
   "outputs": [],
   "source": [
    "newdata = pd.read_csv('NewUFO.csv')"
   ]
  },
  {
   "cell_type": "code",
   "execution_count": 5,
   "metadata": {
    "scrolled": true
   },
   "outputs": [
    {
     "data": {
      "text/html": [
       "<div>\n",
       "<style scoped>\n",
       "    .dataframe tbody tr th:only-of-type {\n",
       "        vertical-align: middle;\n",
       "    }\n",
       "\n",
       "    .dataframe tbody tr th {\n",
       "        vertical-align: top;\n",
       "    }\n",
       "\n",
       "    .dataframe thead th {\n",
       "        text-align: right;\n",
       "    }\n",
       "</style>\n",
       "<table border=\"1\" class=\"dataframe\">\n",
       "  <thead>\n",
       "    <tr style=\"text-align: right;\">\n",
       "      <th></th>\n",
       "      <th>Unnamed: 0</th>\n",
       "      <th>0</th>\n",
       "      <th>1</th>\n",
       "      <th>2</th>\n",
       "      <th>3</th>\n",
       "      <th>4</th>\n",
       "      <th>5</th>\n",
       "      <th>6</th>\n",
       "      <th>7</th>\n",
       "    </tr>\n",
       "  </thead>\n",
       "  <tbody>\n",
       "    <tr>\n",
       "      <th>0</th>\n",
       "      <td>0</td>\n",
       "      <td>23:00</td>\n",
       "      <td>12/19/21</td>\n",
       "      <td>Branford</td>\n",
       "      <td>CT</td>\n",
       "      <td>Circle</td>\n",
       "      <td>NaN</td>\n",
       "      <td>See craft every evening when I get out of work...</td>\n",
       "      <td>12/19/21</td>\n",
       "    </tr>\n",
       "  </tbody>\n",
       "</table>\n",
       "</div>"
      ],
      "text/plain": [
       "   Unnamed: 0      0         1         2   3       4    5  \\\n",
       "0           0  23:00  12/19/21  Branford  CT  Circle  NaN   \n",
       "\n",
       "                                                   6         7  \n",
       "0  See craft every evening when I get out of work...  12/19/21  "
      ]
     },
     "execution_count": 5,
     "metadata": {},
     "output_type": "execute_result"
    }
   ],
   "source": [
    "data.head(1)"
   ]
  },
  {
   "cell_type": "code",
   "execution_count": 6,
   "metadata": {},
   "outputs": [
    {
     "data": {
      "text/html": [
       "<div>\n",
       "<style scoped>\n",
       "    .dataframe tbody tr th:only-of-type {\n",
       "        vertical-align: middle;\n",
       "    }\n",
       "\n",
       "    .dataframe tbody tr th {\n",
       "        vertical-align: top;\n",
       "    }\n",
       "\n",
       "    .dataframe thead th {\n",
       "        text-align: right;\n",
       "    }\n",
       "</style>\n",
       "<table border=\"1\" class=\"dataframe\">\n",
       "  <thead>\n",
       "    <tr style=\"text-align: right;\">\n",
       "      <th></th>\n",
       "      <th>Unnamed: 0</th>\n",
       "      <th>0</th>\n",
       "      <th>1</th>\n",
       "      <th>2</th>\n",
       "      <th>3</th>\n",
       "      <th>4</th>\n",
       "      <th>5</th>\n",
       "      <th>6</th>\n",
       "      <th>7</th>\n",
       "    </tr>\n",
       "  </thead>\n",
       "  <tbody>\n",
       "    <tr>\n",
       "      <th>0</th>\n",
       "      <td>0</td>\n",
       "      <td>23:47</td>\n",
       "      <td>5/11/11</td>\n",
       "      <td>Bighorn (Municipal district) (Canada)</td>\n",
       "      <td>AB</td>\n",
       "      <td>Circle</td>\n",
       "      <td>5 min</td>\n",
       "      <td>Bright oval shaped light.</td>\n",
       "      <td>5/12/11</td>\n",
       "    </tr>\n",
       "  </tbody>\n",
       "</table>\n",
       "</div>"
      ],
      "text/plain": [
       "   Unnamed: 0      0        1                                      2   3  \\\n",
       "0           0  23:47  5/11/11  Bighorn (Municipal district) (Canada)  AB   \n",
       "\n",
       "        4      5                          6        7  \n",
       "0  Circle  5 min  Bright oval shaped light.  5/12/11  "
      ]
     },
     "execution_count": 6,
     "metadata": {},
     "output_type": "execute_result"
    }
   ],
   "source": [
    "newdata.head(1)"
   ]
  },
  {
   "cell_type": "code",
   "execution_count": 7,
   "metadata": {
    "scrolled": true
   },
   "outputs": [
    {
     "name": "stderr",
     "output_type": "stream",
     "text": [
      "/var/folders/xl/vjx4kjvn0jdg2g8_p_4nfq9c0000gn/T/ipykernel_24560/155435407.py:1: FutureWarning: The frame.append method is deprecated and will be removed from pandas in a future version. Use pandas.concat instead.\n",
      "  data = data.append(newdata, ignore_index=True)\n"
     ]
    }
   ],
   "source": [
    "data = data.append(newdata, ignore_index=True)"
   ]
  },
  {
   "cell_type": "code",
   "execution_count": 8,
   "metadata": {},
   "outputs": [],
   "source": [
    "\n",
    "data.set_axis([\"NA\",'Time', 'Date', 'City', 'State', 'Shape', 'Duration', 'Summary', 'Posted'], axis=1, inplace=True)\n"
   ]
  },
  {
   "cell_type": "code",
   "execution_count": 9,
   "metadata": {},
   "outputs": [],
   "source": [
    "data.drop(['NA','Posted'],axis=1, inplace=True)"
   ]
  },
  {
   "cell_type": "code",
   "execution_count": 10,
   "metadata": {
    "scrolled": true
   },
   "outputs": [
    {
     "name": "stderr",
     "output_type": "stream",
     "text": [
      "/opt/anaconda3/lib/python3.9/site-packages/pandas/core/tools/datetimes.py:1047: UserWarning: Parsing '22.06.2021' in DD/MM/YYYY format. Provide format or specify infer_datetime_format=True for consistent parsing.\n",
      "  cache_array = _maybe_cache(arg, format, cache, convert_listlike)\n"
     ]
    }
   ],
   "source": [
    "data['Date'] = pd.to_datetime(data['Date'], errors='coerce')"
   ]
  },
  {
   "cell_type": "code",
   "execution_count": 11,
   "metadata": {},
   "outputs": [],
   "source": [
    "data['Time'] = pd.to_datetime(data['Time'],errors='coerce').dt.hour"
   ]
  },
  {
   "cell_type": "code",
   "execution_count": 12,
   "metadata": {
    "scrolled": true
   },
   "outputs": [],
   "source": [
    "data.dropna(inplace=True)"
   ]
  },
  {
   "cell_type": "code",
   "execution_count": 13,
   "metadata": {},
   "outputs": [],
   "source": [
    "data = data[data['Date'].dt.year<=2021]"
   ]
  },
  {
   "cell_type": "code",
   "execution_count": 14,
   "metadata": {
    "scrolled": false
   },
   "outputs": [
    {
     "data": {
      "text/plain": [
       "1         2021\n",
       "3         2021\n",
       "2         2021\n",
       "4         2021\n",
       "5         2021\n",
       "          ... \n",
       "99723     1972\n",
       "91527     1970\n",
       "101261    1966\n",
       "99874     1962\n",
       "103618    1950\n",
       "Name: Date, Length: 86091, dtype: int64"
      ]
     },
     "execution_count": 14,
     "metadata": {},
     "output_type": "execute_result"
    }
   ],
   "source": [
    "data['Date'].sort_values(ascending=False).dt.year"
   ]
  },
  {
   "cell_type": "code",
   "execution_count": 15,
   "metadata": {
    "scrolled": true
   },
   "outputs": [],
   "source": [
    "shape_vc = data.Shape.value_counts().index"
   ]
  },
  {
   "cell_type": "code",
   "execution_count": 16,
   "metadata": {
    "scrolled": true
   },
   "outputs": [
    {
     "data": {
      "text/plain": [
       "Index(['Light', 'Circle', 'Triangle', 'Other', 'Unknown', 'Sphere', 'Fireball',\n",
       "       'Disk', 'Oval', 'Formation', 'Changing', 'Cigar', 'Flash', 'Rectangle',\n",
       "       'Cylinder', 'Diamond', 'Chevron', 'Teardrop', 'Egg', 'Cone', 'Cross',\n",
       "       'light', 'other', 'triangle', 'circle', 'Delta', 'sphere', 'cylinder',\n",
       "       'rectangle', 'cigar', 'Crescent', 'diamond', 'oval', 'fireball',\n",
       "       'Round', 'CA', 'Summer', 'TRIANGULAR', 'unknown', 'delta', 'changed',\n",
       "       'Jacksonville', 'OH', 'egg', 'flash', 'changing', 'Flare', 'Early',\n",
       "       'Hexagon', 'pyramid'],\n",
       "      dtype='object')"
      ]
     },
     "execution_count": 16,
     "metadata": {},
     "output_type": "execute_result"
    }
   ],
   "source": [
    "shape_vc"
   ]
  },
  {
   "cell_type": "code",
   "execution_count": 17,
   "metadata": {},
   "outputs": [],
   "source": [
    "for elements in shape_vc:\n",
    "    if elements[0].isupper() == True:\n",
    "        lowered = elements.lower()\n",
    "        data['Shape'] = data.Shape.apply(lambda x : elements if x.lower() == lowered else x)\n",
    "data['Shape'] = data.Shape.apply(lambda x : 'Triangle' if x == 'TRIANGULAR' else x)\n",
    "data['Shape'] = data.Shape.apply(lambda x : 'Changing' if x == 'changed' else x)"
   ]
  },
  {
   "cell_type": "code",
   "execution_count": 18,
   "metadata": {},
   "outputs": [],
   "source": [
    "shape_vc = data.Shape.value_counts().index"
   ]
  },
  {
   "cell_type": "code",
   "execution_count": 19,
   "metadata": {
    "scrolled": false
   },
   "outputs": [
    {
     "data": {
      "text/plain": [
       "Index(['Light', 'Circle', 'Triangle', 'Other', 'Unknown', 'Sphere', 'Fireball',\n",
       "       'Disk', 'Oval', 'Formation', 'Changing', 'Cigar', 'Flash', 'Rectangle',\n",
       "       'Cylinder', 'Diamond', 'Chevron', 'Teardrop', 'Egg', 'Cone', 'Cross',\n",
       "       'Delta', 'Round', 'CA', 'Crescent', 'Flare', 'Hexagon', 'Jacksonville',\n",
       "       'Summer', 'OH', 'Early', 'pyramid'],\n",
       "      dtype='object')"
      ]
     },
     "execution_count": 19,
     "metadata": {},
     "output_type": "execute_result"
    }
   ],
   "source": [
    "shape_vc"
   ]
  },
  {
   "cell_type": "code",
   "execution_count": 21,
   "metadata": {},
   "outputs": [
    {
     "data": {
      "text/html": [
       "<div>\n",
       "<style scoped>\n",
       "    .dataframe tbody tr th:only-of-type {\n",
       "        vertical-align: middle;\n",
       "    }\n",
       "\n",
       "    .dataframe tbody tr th {\n",
       "        vertical-align: top;\n",
       "    }\n",
       "\n",
       "    .dataframe thead th {\n",
       "        text-align: right;\n",
       "    }\n",
       "</style>\n",
       "<table border=\"1\" class=\"dataframe\">\n",
       "  <thead>\n",
       "    <tr style=\"text-align: right;\">\n",
       "      <th></th>\n",
       "      <th>Time</th>\n",
       "      <th>Date</th>\n",
       "      <th>City</th>\n",
       "      <th>State</th>\n",
       "      <th>Shape</th>\n",
       "      <th>Duration</th>\n",
       "      <th>Summary</th>\n",
       "    </tr>\n",
       "  </thead>\n",
       "  <tbody>\n",
       "    <tr>\n",
       "      <th>1</th>\n",
       "      <td>0.0</td>\n",
       "      <td>2021-12-19</td>\n",
       "      <td>Deltona</td>\n",
       "      <td>FL</td>\n",
       "      <td>Changing</td>\n",
       "      <td>1 minute, 9 seconds video</td>\n",
       "      <td>I was on Ring app in house and saw incredible ...</td>\n",
       "    </tr>\n",
       "    <tr>\n",
       "      <th>2</th>\n",
       "      <td>21.0</td>\n",
       "      <td>2021-12-18</td>\n",
       "      <td>Long Beach</td>\n",
       "      <td>CA</td>\n",
       "      <td>Triangle</td>\n",
       "      <td>3-5 seconds</td>\n",
       "      <td>3 Boomerang shaped craft flying in formation</td>\n",
       "    </tr>\n",
       "    <tr>\n",
       "      <th>3</th>\n",
       "      <td>0.0</td>\n",
       "      <td>2021-12-18</td>\n",
       "      <td>Charlotte</td>\n",
       "      <td>NC</td>\n",
       "      <td>Cigar</td>\n",
       "      <td>still active 12:35am</td>\n",
       "      <td>flying stick, the ends of it brighter. Recorde...</td>\n",
       "    </tr>\n",
       "    <tr>\n",
       "      <th>4</th>\n",
       "      <td>23.0</td>\n",
       "      <td>2021-12-17</td>\n",
       "      <td>Traver</td>\n",
       "      <td>CA</td>\n",
       "      <td>Oval</td>\n",
       "      <td>2 hours</td>\n",
       "      <td>((HOAX)) near the Foster farms feed mill in Tr...</td>\n",
       "    </tr>\n",
       "    <tr>\n",
       "      <th>5</th>\n",
       "      <td>22.0</td>\n",
       "      <td>2021-12-17</td>\n",
       "      <td>Butte</td>\n",
       "      <td>MT</td>\n",
       "      <td>Circle</td>\n",
       "      <td>15 minutes</td>\n",
       "      <td>Saw orb that moved around the moon and got pic...</td>\n",
       "    </tr>\n",
       "    <tr>\n",
       "      <th>...</th>\n",
       "      <td>...</td>\n",
       "      <td>...</td>\n",
       "      <td>...</td>\n",
       "      <td>...</td>\n",
       "      <td>...</td>\n",
       "      <td>...</td>\n",
       "      <td>...</td>\n",
       "    </tr>\n",
       "    <tr>\n",
       "      <th>103919</th>\n",
       "      <td>17.0</td>\n",
       "      <td>1978-12-20</td>\n",
       "      <td>Huntington Park</td>\n",
       "      <td>CA</td>\n",
       "      <td>Disk</td>\n",
       "      <td>20 min.</td>\n",
       "      <td>My Father and I watched a silver object, shape...</td>\n",
       "    </tr>\n",
       "    <tr>\n",
       "      <th>103920</th>\n",
       "      <td>3.0</td>\n",
       "      <td>1975-01-01</td>\n",
       "      <td>Jamestown</td>\n",
       "      <td>NY</td>\n",
       "      <td>Sphere</td>\n",
       "      <td>a few minutes</td>\n",
       "      <td>I was 13-15. I was in my parent house on Moon ...</td>\n",
       "    </tr>\n",
       "    <tr>\n",
       "      <th>103921</th>\n",
       "      <td>4.0</td>\n",
       "      <td>1973-08-01</td>\n",
       "      <td>Kittery</td>\n",
       "      <td>ME</td>\n",
       "      <td>Formation</td>\n",
       "      <td>10 Seconds</td>\n",
       "      <td>A VERY fast light point object that was viewed...</td>\n",
       "    </tr>\n",
       "    <tr>\n",
       "      <th>103922</th>\n",
       "      <td>2.0</td>\n",
       "      <td>1973-07-24</td>\n",
       "      <td>Blackfoot</td>\n",
       "      <td>ID</td>\n",
       "      <td>Triangle</td>\n",
       "      <td>Approx. 4 minutes</td>\n",
       "      <td>Smooth, rounded triangular object, stone grey,...</td>\n",
       "    </tr>\n",
       "    <tr>\n",
       "      <th>103923</th>\n",
       "      <td>19.0</td>\n",
       "      <td>1972-07-01</td>\n",
       "      <td>Provo (south of)</td>\n",
       "      <td>UT</td>\n",
       "      <td>Disk</td>\n",
       "      <td>20-30 min.</td>\n",
       "      <td>1972,Utah-small bright cloud,I'm driving south...</td>\n",
       "    </tr>\n",
       "  </tbody>\n",
       "</table>\n",
       "<p>86091 rows × 7 columns</p>\n",
       "</div>"
      ],
      "text/plain": [
       "        Time       Date              City State      Shape  \\\n",
       "1        0.0 2021-12-19           Deltona    FL   Changing   \n",
       "2       21.0 2021-12-18        Long Beach    CA   Triangle   \n",
       "3        0.0 2021-12-18         Charlotte    NC      Cigar   \n",
       "4       23.0 2021-12-17            Traver    CA       Oval   \n",
       "5       22.0 2021-12-17             Butte    MT     Circle   \n",
       "...      ...        ...               ...   ...        ...   \n",
       "103919  17.0 1978-12-20   Huntington Park    CA       Disk   \n",
       "103920   3.0 1975-01-01         Jamestown    NY     Sphere   \n",
       "103921   4.0 1973-08-01           Kittery    ME  Formation   \n",
       "103922   2.0 1973-07-24         Blackfoot    ID   Triangle   \n",
       "103923  19.0 1972-07-01  Provo (south of)    UT       Disk   \n",
       "\n",
       "                         Duration  \\\n",
       "1       1 minute, 9 seconds video   \n",
       "2                     3-5 seconds   \n",
       "3            still active 12:35am   \n",
       "4                         2 hours   \n",
       "5                      15 minutes   \n",
       "...                           ...   \n",
       "103919                    20 min.   \n",
       "103920              a few minutes   \n",
       "103921                 10 Seconds   \n",
       "103922          Approx. 4 minutes   \n",
       "103923                 20-30 min.   \n",
       "\n",
       "                                                  Summary  \n",
       "1       I was on Ring app in house and saw incredible ...  \n",
       "2            3 Boomerang shaped craft flying in formation  \n",
       "3       flying stick, the ends of it brighter. Recorde...  \n",
       "4       ((HOAX)) near the Foster farms feed mill in Tr...  \n",
       "5       Saw orb that moved around the moon and got pic...  \n",
       "...                                                   ...  \n",
       "103919  My Father and I watched a silver object, shape...  \n",
       "103920  I was 13-15. I was in my parent house on Moon ...  \n",
       "103921  A VERY fast light point object that was viewed...  \n",
       "103922  Smooth, rounded triangular object, stone grey,...  \n",
       "103923  1972,Utah-small bright cloud,I'm driving south...  \n",
       "\n",
       "[86091 rows x 7 columns]"
      ]
     },
     "execution_count": 21,
     "metadata": {},
     "output_type": "execute_result"
    }
   ],
   "source": [
    "data"
   ]
  },
  {
   "cell_type": "code",
   "execution_count": 22,
   "metadata": {},
   "outputs": [],
   "source": [
    "data.to_csv('UFO_cleaned.csv')"
   ]
  },
  {
   "cell_type": "code",
   "execution_count": null,
   "metadata": {},
   "outputs": [],
   "source": []
  }
 ],
 "metadata": {
  "kernelspec": {
   "display_name": "Python 3 (ipykernel)",
   "language": "python",
   "name": "python3"
  },
  "language_info": {
   "codemirror_mode": {
    "name": "ipython",
    "version": 3
   },
   "file_extension": ".py",
   "mimetype": "text/x-python",
   "name": "python",
   "nbconvert_exporter": "python",
   "pygments_lexer": "ipython3",
   "version": "3.9.13"
  },
  "vscode": {
   "interpreter": {
    "hash": "aee8b7b246df8f9039afb4144a1f6fd8d2ca17a180786b69acc140d282b71a49"
   }
  }
 },
 "nbformat": 4,
 "nbformat_minor": 4
}
